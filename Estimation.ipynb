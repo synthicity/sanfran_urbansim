{
 "metadata": {
  "name": "",
  "signature": "sha256:7634be88010ffc9e10e2ee5b5ba43c56ddf90ac12e0bce5ff3352e578e1a9cd1"
 },
 "nbformat": 3,
 "nbformat_minor": 0,
 "worksheets": [
  {
   "cells": [
    {
     "cell_type": "code",
     "collapsed": false,
     "input": [
      "%load_ext autoreload\n",
      "%autoreload 2\n",
      "import models\n",
      "import urbansim.sim.simulation as sim"
     ],
     "language": "python",
     "metadata": {},
     "outputs": [],
     "prompt_number": 1
    },
    {
     "cell_type": "heading",
     "level": 2,
     "metadata": {},
     "source": [
      "Hedonic Estimation"
     ]
    },
    {
     "cell_type": "code",
     "collapsed": false,
     "input": [
      "sim.run([\"rsh_estimate\"])"
     ],
     "language": "python",
     "metadata": {},
     "outputs": [
      {
       "output_type": "stream",
       "stream": "stdout",
       "text": [
        "Running model 'rsh_estimate'\n",
        "                                    OLS Regression Results                                   \n",
        "=============================================================================================\n",
        "Dep. Variable:     np.log1p(residential_sales_price)   R-squared:                       0.399\n",
        "Model:                                           OLS   Adj. R-squared:                  0.399\n",
        "Method:                                Least Squares   F-statistic:                 1.240e+04\n",
        "Date:                               Thu, 25 Sep 2014   Prob (F-statistic):               0.00\n",
        "Time:                                       15:42:11   Log-Likelihood:            -2.5241e+05\n",
        "No. Observations:                             149409   AIC:                         5.048e+05\n",
        "Df Residuals:                                 149400   BIC:                         5.049e+05\n",
        "Df Model:                                          8                                         \n",
        "================================================================================================\n",
        "                                   coef    std err          t      P>|t|      [95.0% Conf. Int.]\n",
        "------------------------------------------------------------------------------------------------\n",
        "Intercept                       -3.8638      0.170    -22.751      0.000        -4.197    -3.531\n",
        "I(year_built < 1940)[T.True]     0.0012      0.007      0.160      0.873        -0.013     0.016\n",
        "I(year_built > 2005)[T.True]    -0.0633      0.049     -1.300      0.194        -0.159     0.032\n",
        "np.log1p(unit_sqft)             -1.4830      0.007   -210.948      0.000        -1.497    -1.469\n",
        "np.log1p(unit_lot_size)         -0.1476      0.006    -23.224      0.000        -0.160    -0.135\n",
        "sum_residential_units            0.0987      0.008     11.987      0.000         0.083     0.115\n",
        "ave_lot_sqft                    -0.2177      0.010    -21.273      0.000        -0.238    -0.198\n",
        "ave_unit_sqft                    0.9371      0.020     45.808      0.000         0.897     0.977\n",
        "ave_income                       1.4191      0.015     92.819      0.000         1.389     1.449\n",
        "==============================================================================\n",
        "Omnibus:                    89684.695   Durbin-Watson:                   1.798\n",
        "Prob(Omnibus):                  0.000   Jarque-Bera (JB):           820175.061\n",
        "Skew:                          -2.842   Prob(JB):                         0.00\n",
        "Kurtosis:                      12.972   Cond. No.                     1.01e+03\n",
        "==============================================================================\n",
        "\n",
        "Warnings:\n",
        "[1] The condition number is large, 1.01e+03. This might indicate that there are\n",
        "strong multicollinearity or other numerical problems."
       ]
      },
      {
       "output_type": "stream",
       "stream": "stdout",
       "text": [
        "\n",
        "Time to execute model 'rsh_estimate': 1.20s\n",
        "Total time to execute: 1.20s\n"
       ]
      }
     ],
     "prompt_number": 3
    },
    {
     "cell_type": "code",
     "collapsed": false,
     "input": [
      "sim.run([\"nrh_estimate\"])"
     ],
     "language": "python",
     "metadata": {},
     "outputs": [
      {
       "output_type": "stream",
       "stream": "stdout",
       "text": [
        "Running model 'nrh_estimate'\n",
        "Filling column job_category with value service (331 values)"
       ]
      },
      {
       "output_type": "stream",
       "stream": "stdout",
       "text": [
        "\n",
        "REGRESSION RESULTS FOR SEGMENT Retail\n"
       ]
      },
      {
       "output_type": "stream",
       "stream": "stdout",
       "text": [
        "\n",
        "                                  OLS Regression Results                                  \n",
        "==========================================================================================\n",
        "Dep. Variable:     np.log1p(non_residential_rent)   R-squared:                       0.046\n",
        "Model:                                        OLS   Adj. R-squared:                  0.045\n",
        "Method:                             Least Squares   F-statistic:                     43.81\n",
        "Date:                            Fri, 08 Aug 2014   Prob (F-statistic):           2.83e-44\n",
        "Time:                                    13:43:08   Log-Likelihood:                -5334.2\n",
        "No. Observations:                            4592   AIC:                         1.068e+04\n",
        "Df Residuals:                                4586   BIC:                         1.072e+04\n",
        "Df Model:                                       5                                         \n",
        "================================================================================================\n",
        "                                   coef    std err          t      P>|t|      [95.0% Conf. Int.]\n",
        "------------------------------------------------------------------------------------------------\n",
        "Intercept                        3.9704      0.331     11.986      0.000         3.321     4.620\n",
        "I(year_built < 1940)[T.True]    -0.3253      0.025    -12.869      0.000        -0.375    -0.276\n",
        "I(year_built > 2005)[T.True]    -0.1107      0.104     -1.067      0.286        -0.314     0.093\n",
        "np.log1p(stories)                0.2327      0.037      6.311      0.000         0.160     0.305\n",
        "ave_income                      -0.0483      0.026     -1.874      0.061        -0.099     0.002\n",
        "jobs                            -0.0367      0.014     -2.688      0.007        -0.063    -0.010\n",
        "==============================================================================\n",
        "Omnibus:                     3246.917   Durbin-Watson:                   1.731\n",
        "Prob(Omnibus):                  0.000   Jarque-Bera (JB):            32590.849\n",
        "Skew:                          -3.490   Prob(JB):                         0.00\n",
        "Kurtosis:                      14.028   Cond. No.                         374.\n",
        "==============================================================================\n",
        "REGRESSION RESULTS FOR SEGMENT Office\n",
        "\n",
        "                                  OLS Regression Results                                  \n",
        "==========================================================================================\n",
        "Dep. Variable:     np.log1p(non_residential_rent)   R-squared:                       0.066\n",
        "Model:                                        OLS   Adj. R-squared:                  0.064\n",
        "Method:                             Least Squares   F-statistic:                     51.14\n",
        "Date:                            Fri, 08 Aug 2014   Prob (F-statistic):           2.16e-51\n",
        "Time:                                    13:43:08   Log-Likelihood:                -4021.6\n",
        "No. Observations:                            3653   AIC:                             8055.\n",
        "Df Residuals:                                3647   BIC:                             8092.\n",
        "Df Model:                                       5                                         \n",
        "================================================================================================\n",
        "                                   coef    std err          t      P>|t|      [95.0% Conf. Int.]\n",
        "------------------------------------------------------------------------------------------------\n",
        "Intercept                        4.1593      0.321     12.975      0.000         3.531     4.788\n",
        "I(year_built < 1940)[T.True]    -0.3156      0.027    -11.908      0.000        -0.368    -0.264\n",
        "I(year_built > 2005)[T.True]    -0.0238      0.119     -0.201      0.841        -0.256     0.209\n",
        "np.log1p(stories)                0.1750      0.024      7.183      0.000         0.127     0.223\n",
        "ave_income                      -0.0719      0.025     -2.853      0.004        -0.121    -0.022\n",
        "jobs                            -0.0429      0.013     -3.201      0.001        -0.069    -0.017\n",
        "==============================================================================\n",
        "Omnibus:                     2697.682   Durbin-Watson:                   1.827\n",
        "Prob(Omnibus):                  0.000   Jarque-Bera (JB):            29985.208\n",
        "Skew:                          -3.650   Prob(JB):                         0.00\n",
        "Kurtosis:                      14.988   Cond. No.                         348.\n",
        "==============================================================================\n",
        "REGRESSION RESULTS FOR SEGMENT Industrial\n",
        "\n",
        "                                  OLS Regression Results                                  \n",
        "==========================================================================================\n",
        "Dep. Variable:     np.log1p(non_residential_rent)   R-squared:                       0.105\n",
        "Model:                                        OLS   Adj. R-squared:                  0.103\n",
        "Method:                             Least Squares   F-statistic:                     59.66\n",
        "Date:                            Fri, 08 Aug 2014   Prob (F-statistic):           6.48e-59\n",
        "Time:                                    13:43:08   Log-Likelihood:                -2035.1\n",
        "No. Observations:                            2558   AIC:                             4082.\n",
        "Df Residuals:                                2552   BIC:                             4117.\n",
        "Df Model:                                       5                                         \n",
        "================================================================================================\n",
        "                                   coef    std err          t      P>|t|      [95.0% Conf. Int.]\n",
        "------------------------------------------------------------------------------------------------\n",
        "Intercept                        3.7205      0.309     12.025      0.000         3.114     4.327\n",
        "I(year_built < 1940)[T.True]    -0.3186      0.023    -13.995      0.000        -0.363    -0.274\n",
        "I(year_built > 2005)[T.True]    -0.0483      0.101     -0.479      0.632        -0.246     0.150\n",
        "np.log1p(stories)                0.3851      0.042      9.187      0.000         0.303     0.467\n",
        "ave_income                      -0.1826      0.027     -6.852      0.000        -0.235    -0.130\n",
        "jobs                             0.0605      0.012      4.981      0.000         0.037     0.084\n",
        "==============================================================================\n",
        "Omnibus:                     1781.535   Durbin-Watson:                   1.817\n",
        "Prob(Omnibus):                  0.000   Jarque-Bera (JB):            17978.361\n",
        "Skew:                          -3.372   Prob(JB):                         0.00\n",
        "Kurtosis:                      14.099   Cond. No.                         385.\n",
        "=============================================================================="
       ]
      },
      {
       "output_type": "stream",
       "stream": "stdout",
       "text": [
        "\n",
        "Time to execute model 'nrh_estimate': 0.96s\n",
        "Total time to execute: 0.96s\n"
       ]
      }
     ],
     "prompt_number": 3
    },
    {
     "cell_type": "heading",
     "level": 2,
     "metadata": {},
     "source": [
      "Hedonic Simulation"
     ]
    },
    {
     "cell_type": "code",
     "collapsed": false,
     "input": [
      "sim.run([\"rsh_simulate\", \"nrh_simulate\"])"
     ],
     "language": "python",
     "metadata": {},
     "outputs": [
      {
       "output_type": "stream",
       "stream": "stdout",
       "text": [
        "Running model 'rsh_simulate'\n",
        "count      140780.000000\n",
        "mean         1156.971200\n",
        "std         41503.246343\n",
        "min             0.002067\n",
        "25%           252.727481\n",
        "50%           379.993499\n",
        "75%           554.244653\n",
        "max      12507033.315516\n",
        "dtype: float64"
       ]
      },
      {
       "output_type": "stream",
       "stream": "stdout",
       "text": [
        "\n",
        "Time to execute model 'rsh_simulate': 0.68s\n",
        "Running model 'nrh_simulate'\n",
        "count    10803.000000\n",
        "mean        20.729909\n",
        "std          6.833292\n",
        "min          6.258496\n",
        "25%         17.431477\n",
        "50%         20.908725\n",
        "75%         25.077906\n",
        "max         47.266957\n",
        "dtype: float64"
       ]
      },
      {
       "output_type": "stream",
       "stream": "stdout",
       "text": [
        "\n",
        "Time to execute model 'nrh_simulate': 0.52s\n",
        "Total time to execute: 1.19s\n"
       ]
      }
     ],
     "prompt_number": 4
    },
    {
     "cell_type": "heading",
     "level": 2,
     "metadata": {},
     "source": [
      "LCM Estimation"
     ]
    },
    {
     "cell_type": "code",
     "collapsed": false,
     "input": [
      "sim.run([\"hlcm_estimate\"])"
     ],
     "language": "python",
     "metadata": {},
     "outputs": [
      {
       "output_type": "stream",
       "stream": "stdout",
       "text": [
        "Running model 'hlcm_estimate'\n",
        "LCM RESULTS FOR SEGMENT 0\n"
       ]
      },
      {
       "output_type": "stream",
       "stream": "stdout",
       "text": [
        "\n",
        "Null Log-liklihood: -13815.511\n",
        "Log-liklihood at convergence: -11363.597\n",
        "Log-liklihood Ratio: 0.177\n",
        "\n",
        "+-----------------------------------+-------------+------------+---------+\n",
        "| Component                         | Coefficient | Std. Error | T-Score |\n",
        "+-----------------------------------+-------------+------------+---------+\n",
        "| np.log1p(residential_sales_price) |    1.552    |   0.081    |  19.271 |\n",
        "| np.log1p(unit_sqft)               |    1.963    |   0.118    |  16.662 |\n",
        "| sum_residential_units             |    0.001    |   0.107    |  0.009  |\n",
        "| ave_unit_sqft                     |    -1.077   |   0.115    |  -9.402 |\n",
        "| ave_lot_sqft                      |    0.307    |   0.041    |  7.397  |\n",
        "| ave_income                        |    -2.234   |   0.115    | -19.369 |\n",
        "| hhsize                            |    -0.775   |   0.144    |  -5.363 |\n",
        "| jobs                              |    0.062    |   0.032    |  1.899  |\n",
        "| sfdu                              |    -0.005   |   0.019    |  -0.251 |\n",
        "| renters                           |    -0.430   |   0.040    | -10.890 |\n",
        "| poor                              |    1.168    |   0.090    |  13.015 |\n",
        "| population                        |    -0.620   |   0.131    |  -4.718 |\n",
        "+-----------------------------------+-------------+------------+---------+\n",
        "LCM RESULTS FOR SEGMENT 1\n",
        "\n",
        "Null Log-liklihood: -13815.511\n",
        "Log-liklihood at convergence: -12574.927\n",
        "Log-liklihood Ratio: 0.090\n",
        "\n",
        "+-----------------------------------+-------------+------------+---------+\n",
        "| Component                         | Coefficient | Std. Error | T-Score |\n",
        "+-----------------------------------+-------------+------------+---------+\n",
        "| np.log1p(residential_sales_price) |    2.088    |   0.068    |  30.618 |\n",
        "| np.log1p(unit_sqft)               |    2.684    |   0.096    |  27.875 |\n",
        "| sum_residential_units             |    -0.206   |   0.108    |  -1.913 |\n",
        "| ave_unit_sqft                     |    -1.914   |   0.125    | -15.294 |\n",
        "| ave_lot_sqft                      |    0.318    |   0.042    |  7.570  |\n",
        "| ave_income                        |    -2.247   |   0.113    | -19.833 |\n",
        "| hhsize                            |    -0.287   |   0.139    |  -2.058 |\n",
        "| jobs                              |    0.024    |   0.031    |  0.781  |\n",
        "| sfdu                              |    -0.042   |   0.019    |  -2.215 |\n",
        "| renters                           |    -0.547   |   0.044    | -12.469 |\n",
        "| poor                              |    0.594    |   0.088    |  6.734  |\n",
        "| population                        |    0.158    |   0.144    |  1.093  |\n",
        "+-----------------------------------+-------------+------------+---------+\n",
        "LCM RESULTS FOR SEGMENT 2\n",
        "\n",
        "Null Log-liklihood: -13815.511\n",
        "Log-liklihood at convergence: -12939.461\n",
        "Log-liklihood Ratio: 0.063\n",
        "\n",
        "+-----------------------------------+-------------+------------+---------+\n",
        "| Component                         | Coefficient | Std. Error | T-Score |\n",
        "+-----------------------------------+-------------+------------+---------+\n",
        "| np.log1p(residential_sales_price) |    2.381    |   0.066    |  36.206 |\n",
        "| np.log1p(unit_sqft)               |    3.000    |   0.094    |  31.924 |\n",
        "| sum_residential_units             |    -0.271   |   0.121    |  -2.245 |\n",
        "| ave_unit_sqft                     |    -1.953   |   0.131    | -14.885 |\n",
        "| ave_lot_sqft                      |    0.323    |   0.048    |  6.684  |\n",
        "| ave_income                        |    -2.314   |   0.115    | -20.124 |\n",
        "| hhsize                            |    -0.158   |   0.144    |  -1.098 |\n",
        "| jobs                              |    0.040    |   0.032    |  1.242  |\n",
        "| sfdu                              |    -0.042   |   0.020    |  -2.085 |\n",
        "| renters                           |    -0.432   |   0.053    |  -8.176 |\n",
        "| poor                              |    0.281    |   0.094    |  3.001  |\n",
        "| population                        |    0.451    |   0.165    |  2.726  |\n",
        "+-----------------------------------+-------------+------------+---------+\n",
        "LCM RESULTS FOR SEGMENT 3\n",
        "\n",
        "Null Log-liklihood: -13815.511\n",
        "Log-liklihood at convergence: -13079.272\n",
        "Log-liklihood Ratio: 0.053\n",
        "\n",
        "+-----------------------------------+-------------+------------+---------+\n",
        "| Component                         | Coefficient | Std. Error | T-Score |\n",
        "+-----------------------------------+-------------+------------+---------+\n",
        "| np.log1p(residential_sales_price) |    2.334    |   0.062    |  37.546 |\n",
        "| np.log1p(unit_sqft)               |    3.000    |   0.088    |  34.213 |\n",
        "| sum_residential_units             |    -0.567   |   0.117    |  -4.834 |\n",
        "| ave_unit_sqft                     |    -1.902   |   0.126    | -15.110 |\n",
        "| ave_lot_sqft                      |    0.435    |   0.052    |  8.324  |\n",
        "| ave_income                        |    -1.163   |   0.109    | -10.677 |\n",
        "| hhsize                            |    -0.618   |   0.146    |  -4.245 |\n",
        "| jobs                              |    0.076    |   0.031    |  2.419  |\n",
        "| sfdu                              |    -0.033   |   0.020    |  -1.638 |\n",
        "| renters                           |    -0.612   |   0.062    |  -9.901 |\n",
        "| poor                              |    0.128    |   0.100    |  1.279  |\n",
        "| population                        |    0.900    |   0.180    |  5.000  |\n",
        "+-----------------------------------+-------------+------------+---------+\n",
        "Time to execute model 'hlcm_estimate': 11.92s"
       ]
      },
      {
       "output_type": "stream",
       "stream": "stdout",
       "text": [
        "\n",
        "Total time to execute: 11.92s\n"
       ]
      }
     ],
     "prompt_number": 5
    },
    {
     "cell_type": "code",
     "collapsed": false,
     "input": [
      "sim.run([\"elcm_estimate\"])"
     ],
     "language": "python",
     "metadata": {},
     "outputs": [
      {
       "output_type": "stream",
       "stream": "stdout",
       "text": [
        "Running model 'elcm_estimate'\n",
        "LCM RESULTS FOR SEGMENT industrial\n"
       ]
      },
      {
       "output_type": "stream",
       "stream": "stdout",
       "text": [
        "\n",
        "Null Log-liklihood: -17232.547\n",
        "Log-liklihood at convergence: -14820.802\n",
        "Log-liklihood Ratio: 0.140\n",
        "\n",
        "+--------------------------------+-------------+------------+---------+\n",
        "| Component                      | Coefficient | Std. Error | T-Score |\n",
        "+--------------------------------+-------------+------------+---------+\n",
        "| np.log1p(non_residential_rent) |    0.402    |   0.043    |  9.260  |\n",
        "| sum_job_spaces                 |    -0.175   |   0.044    |  -3.952 |\n",
        "| sum_residential_units          |    0.065    |   0.053    |  1.234  |\n",
        "| ave_unit_sqft                  |    0.115    |   0.024    |  4.824  |\n",
        "| ave_lot_sqft                   |    0.544    |   0.029    |  18.633 |\n",
        "| ave_income                     |    -0.118   |   0.040    |  -2.982 |\n",
        "| hhsize                         |    0.166    |   0.117    |  1.425  |\n",
        "| jobs                           |    0.589    |   0.047    |  12.544 |\n",
        "| poor                           |    -0.324   |   0.030    | -10.828 |\n",
        "+--------------------------------+-------------+------------+---------+\n",
        "LCM RESULTS FOR SEGMENT agriculture\n",
        "\n",
        "Null Log-liklihood: -990.112\n",
        "Log-liklihood at convergence: -682.849\n",
        "Log-liklihood Ratio: 0.310\n",
        "\n",
        "+--------------------------------+-------------+------------+---------+\n",
        "| Component                      | Coefficient | Std. Error | T-Score |\n",
        "+--------------------------------+-------------+------------+---------+\n",
        "| np.log1p(non_residential_rent) |    0.838    |   0.243    |  3.452  |\n",
        "| sum_job_spaces                 |    -0.767   |   0.297    |  -2.584 |\n",
        "| sum_residential_units          |    0.456    |   0.291    |  1.570  |\n",
        "| ave_unit_sqft                  |    -0.574   |   0.087    |  -6.565 |\n",
        "| ave_lot_sqft                   |    0.376    |   0.179    |  2.107  |\n",
        "| ave_income                     |    0.033    |   0.244    |  0.137  |\n",
        "| hhsize                         |    -0.508   |   0.727    |  -0.698 |\n",
        "| jobs                           |    1.567    |   0.311    |  5.034  |\n",
        "| poor                           |    -0.443   |   0.155    |  -2.868 |\n",
        "+--------------------------------+-------------+------------+---------+\n",
        "LCM RESULTS FOR SEGMENT service\n",
        "\n",
        "Null Log-liklihood: -15685.210\n",
        "Log-liklihood at convergence: -12455.513\n",
        "Log-liklihood Ratio: 0.206\n",
        "\n",
        "+--------------------------------+-------------+------------+---------+\n",
        "| Component                      | Coefficient | Std. Error | T-Score |\n",
        "+--------------------------------+-------------+------------+---------+\n",
        "| np.log1p(non_residential_rent) |    1.590    |   0.052    |  30.396 |\n",
        "| sum_job_spaces                 |    -0.475   |   0.046    | -10.223 |\n",
        "| sum_residential_units          |    0.025    |   0.050    |  0.498  |\n",
        "| ave_unit_sqft                  |    0.056    |   0.019    |  3.003  |\n",
        "| ave_lot_sqft                   |    0.032    |   0.028    |  1.146  |\n",
        "| ave_income                     |    -0.173   |   0.037    |  -4.608 |\n",
        "| hhsize                         |    -0.961   |   0.146    |  -6.597 |\n",
        "| jobs                           |    1.288    |   0.050    |  25.520 |\n",
        "| poor                           |    -0.222   |   0.030    |  -7.352 |\n",
        "+--------------------------------+-------------+------------+---------+\n",
        "LCM RESULTS FOR SEGMENT retail\n",
        "\n",
        "Null Log-liklihood: -14934.567\n",
        "Log-liklihood at convergence: -13613.369\n",
        "Log-liklihood Ratio: 0.088\n",
        "\n",
        "+--------------------------------+-------------+------------+---------+\n",
        "| Component                      | Coefficient | Std. Error | T-Score |\n",
        "+--------------------------------+-------------+------------+---------+\n",
        "| np.log1p(non_residential_rent) |    1.447    |   0.054    |  26.574 |\n",
        "| sum_job_spaces                 |    0.140    |   0.048    |  2.924  |\n",
        "| sum_residential_units          |    -0.321   |   0.058    |  -5.500 |\n",
        "| ave_unit_sqft                  |    -0.117   |   0.029    |  -4.006 |\n",
        "| ave_lot_sqft                   |    0.067    |   0.035    |  1.925  |\n",
        "| ave_income                     |    0.769    |   0.042    |  18.310 |\n",
        "| hhsize                         |    -0.878   |   0.137    |  -6.408 |\n",
        "| jobs                           |    0.722    |   0.057    |  12.658 |\n",
        "| poor                           |    0.269    |   0.035    |  7.636  |\n",
        "+--------------------------------+-------------+------------+---------+\n",
        "Time to execute model 'elcm_estimate': 5.35s"
       ]
      },
      {
       "output_type": "stream",
       "stream": "stdout",
       "text": [
        "\n",
        "Total time to execute: 5.35s\n"
       ]
      }
     ],
     "prompt_number": 6
    },
    {
     "cell_type": "code",
     "collapsed": false,
     "input": [],
     "language": "python",
     "metadata": {},
     "outputs": [],
     "prompt_number": 6
    },
    {
     "cell_type": "code",
     "collapsed": false,
     "input": [],
     "language": "python",
     "metadata": {},
     "outputs": [],
     "prompt_number": 6
    }
   ],
   "metadata": {}
  }
 ]
}