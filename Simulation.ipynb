{
 "metadata": {
  "name": "",
  "signature": "sha256:8ec1becdc2d96b85ec9fe595d97b60a647faa8f06cf8378f60b38a0ccdf47f05"
 },
 "nbformat": 3,
 "nbformat_minor": 0,
 "worksheets": [
  {
   "cells": [
    {
     "cell_type": "code",
     "collapsed": true,
     "input": [
      "# %load_ext autoreload\n",
      "# %autoreload 2\n",
      "import models, utils\n",
      "import urbansim.sim.simulation as sim"
     ],
     "language": "python",
     "metadata": {},
     "outputs": [],
     "prompt_number": 1
    },
    {
     "cell_type": "code",
     "collapsed": true,
     "input": [
      "in_year, out_year = 2010, 2013\n",
      "\n",
      "# one time for base year indicators\n",
      "sim.run([\n",
      "    \"diagnostic_output\"\n",
      "], years=[in_year-1])\n",
      "\n",
      "sim.run([\n",
      "    \"rsh_simulate\",              # residential sales hedonic\n",
      "    \"nrh_simulate\",              # non-residential rent hedonic\n",
      "\n",
      "    \"households_relocation\",     # households relocation model\n",
      "    \"hlcm_simulate\",            # households location choice\n",
      "    \"households_transition\",     # households transition\n",
      "\n",
      "    \"jobs_relocation\",           # jobs relocation model\n",
      "    \"elcm_simulate\",             # employment location choice\n",
      "    \"jobs_transition\",           # jobs transition\n",
      "\n",
      "    \"feasibility\",               # compute development feasibility\n",
      "    \"residential_developer\",     # build residential buildings\n",
      "    #\"non_residential_developer\", # build non-residential buildings\n",
      "    \"clear_cache\",               # clear the cache each year\n",
      "    \"diagnostic_output\"\n",
      "], years=range(in_year, out_year))"
     ],
     "language": "python",
     "metadata": {},
     "outputs": [
      {
       "output_type": "stream",
       "stream": "stdout",
       "text": [
        "Running year 2009\n",
        "Running model 'diagnostic_output'\n",
        "Filling column non_residential_rent with value 0 (142400 values)"
       ]
      },
      {
       "output_type": "stream",
       "stream": "stdout",
       "text": [
        "\n",
        "Filling column residential_units with value 0 (0 values)\n",
        "Filling column year_built with value 1927.0 (3116 values)\n",
        "Filling column residential_sales_price with value 0 (14196 values)\n",
        "Filling column non_residential_sqft with value 0 (1341 values)\n",
        "Filling column building_type_id with value 2.0 (0 values)"
       ]
      },
      {
       "output_type": "stream",
       "stream": "stdout",
       "text": [
        "\n",
        "Filling column job_category with value service (331 values)"
       ]
      },
      {
       "output_type": "stream",
       "stream": "stdout",
       "text": [
        "\n",
        "Time to execute model 'diagnostic_output': 2.95s"
       ]
      },
      {
       "output_type": "stream",
       "stream": "stdout",
       "text": [
        "\n",
        "Total time to execute year 2009: 2.95s\n",
        "Running year 2010\n",
        "Running model 'rsh_simulate'\n",
        "count      140780.000000\n",
        "mean         1156.971200\n",
        "std         41503.246343\n",
        "min             0.002067\n",
        "25%           252.727481\n",
        "50%           379.993499\n",
        "75%           554.244653\n",
        "max      12507033.315516\n",
        "dtype: float64"
       ]
      },
      {
       "output_type": "stream",
       "stream": "stdout",
       "text": [
        "\n",
        "Time to execute model 'rsh_simulate': 0.69s"
       ]
      },
      {
       "output_type": "stream",
       "stream": "stdout",
       "text": [
        "\n",
        "Running model 'nrh_simulate'\n",
        "count    10803.000000\n",
        "mean        20.729909\n",
        "std          6.833292\n",
        "min          6.258496\n",
        "25%         17.431477\n",
        "50%         20.908725\n",
        "75%         25.077906\n",
        "max         47.266957\n",
        "dtype: float64"
       ]
      },
      {
       "output_type": "stream",
       "stream": "stdout",
       "text": [
        "\n",
        "Time to execute model 'nrh_simulate': 0.53s\n",
        "Running model 'households_relocation'\n",
        "Total agents: 345588\n",
        "Total currently unplaced: 0"
       ]
      },
      {
       "output_type": "stream",
       "stream": "stdout",
       "text": [
        "\n",
        "Assinging for relocation...\n",
        "Total currently unplaced: 17279"
       ]
      },
      {
       "output_type": "stream",
       "stream": "stdout",
       "text": [
        "\n",
        "Time to execute model 'households_relocation': 0.22s\n",
        "Running model 'hlcm_simulate'\n",
        "There are 374133 total available units"
       ]
      },
      {
       "output_type": "stream",
       "stream": "stdout",
       "text": [
        "\n",
        "    and 345588 total choosers\n",
        "    but there are 42973 overfull buildings\n",
        "    for a total of 109325 temporarily empty units"
       ]
      },
      {
       "output_type": "stream",
       "stream": "stdout",
       "text": [
        "\n",
        "    in 50692 buildings total in the region\n",
        "Assigned 17279 choosers to new units"
       ]
      },
      {
       "output_type": "stream",
       "stream": "stdout",
       "text": [
        "\n",
        "Total currently unplaced: 0"
       ]
      },
      {
       "output_type": "stream",
       "stream": "stdout",
       "text": [
        "\n",
        "    and there are now 28545 empty units"
       ]
      },
      {
       "output_type": "stream",
       "stream": "stdout",
       "text": [
        "\n",
        "    and 42973 overfull buildings\n",
        "Time to execute model 'hlcm_simulate': 2.21s\n",
        "Running model 'households_transition'\n",
        "345588 agents before transition\n",
        "352500 agents after transition"
       ]
      },
      {
       "output_type": "stream",
       "stream": "stdout",
       "text": [
        "\n",
        "Time to execute model 'households_transition': 0.18s\n",
        "Running model 'jobs_relocation'\n",
        "Total agents: 225439\n",
        "Total currently unplaced: 0"
       ]
      },
      {
       "output_type": "stream",
       "stream": "stdout",
       "text": [
        "\n",
        "Assinging for relocation...\n",
        "Total currently unplaced: 11271"
       ]
      },
      {
       "output_type": "stream",
       "stream": "stdout",
       "text": [
        "\n",
        "Time to execute model 'jobs_relocation': 0.13s\n",
        "Running model 'elcm_simulate'\n",
        "There are 642004 total available units"
       ]
      },
      {
       "output_type": "stream",
       "stream": "stdout",
       "text": [
        "\n",
        "    and 225439 total choosers\n",
        "    but there are 14689 overfull buildings\n",
        "    for a total of 543920 temporarily empty units"
       ]
      },
      {
       "output_type": "stream",
       "stream": "stdout",
       "text": [
        "\n",
        "    in 8506 buildings total in the region\n",
        "Assigned 11271 choosers to new units"
       ]
      },
      {
       "output_type": "stream",
       "stream": "stdout",
       "text": [
        "\n",
        "Total currently unplaced: 0"
       ]
      },
      {
       "output_type": "stream",
       "stream": "stdout",
       "text": [
        "\n",
        "    and there are now 416655 empty units"
       ]
      },
      {
       "output_type": "stream",
       "stream": "stdout",
       "text": [
        "\n",
        "    and 14689 overfull buildings\n",
        "Time to execute model 'elcm_simulate': 2.38s\n",
        "Running model 'jobs_transition'\n",
        "225439 agents before transition\n",
        "229948 agents after transition"
       ]
      },
      {
       "output_type": "stream",
       "stream": "stdout",
       "text": [
        "\n",
        "Time to execute model 'jobs_transition': 0.17s\n",
        "Running model 'feasibility'\n",
        "Describe of the yearly rent by use"
       ]
      },
      {
       "output_type": "stream",
       "stream": "stdout",
       "text": [
        "\n",
        "             retail    industrial        office   residential\n",
        "count  47967.000000  24278.000000  47588.000000  48220.000000\n",
        "mean      25.906138      9.139716     22.657248     30.295256\n",
        "std        3.990524      1.681738      3.280794      9.518450\n",
        "min       18.959521      6.761234     16.531243     12.500000\n",
        "25%       21.967369      7.598586     19.377062     24.994565\n",
        "50%       26.090178      8.974031     23.245412     27.089827\n",
        "75%       29.119849     10.239850     25.703121     33.737613\n",
        "max       35.701767     14.925111     31.440265     60.000000"
       ]
      },
      {
       "output_type": "stream",
       "stream": "stderr",
       "text": [
        "/Users/ffoti/anaconda/lib/python2.7/site-packages/pandas/util/decorators.py:81: FutureWarning: the 'cols' keyword is deprecated, use 'subset' instead\n",
        "  warnings.warn(msg, FutureWarning)\n",
        "/Users/ffoti/anaconda/lib/python2.7/site-packages/pandas/core/frame.py:1771: UserWarning: Boolean Series key will be reindexed to match DataFrame index.\n",
        "  \"DataFrame index.\", UserWarning)\n"
       ]
      },
      {
       "output_type": "stream",
       "stream": "stdout",
       "text": [
        "\n",
        "Computing feasibility for form mixedoffice\n",
        "Computing feasibility for form industrial"
       ]
      },
      {
       "output_type": "stream",
       "stream": "stdout",
       "text": [
        "\n",
        "Computing feasibility for form office"
       ]
      },
      {
       "output_type": "stream",
       "stream": "stdout",
       "text": [
        "\n",
        "Computing feasibility for form residential"
       ]
      },
      {
       "output_type": "stream",
       "stream": "stdout",
       "text": [
        "\n",
        "Computing feasibility for form mixedresidential"
       ]
      },
      {
       "output_type": "stream",
       "stream": "stdout",
       "text": [
        "\n",
        "Computing feasibility for form retail"
       ]
      },
      {
       "output_type": "stream",
       "stream": "stdout",
       "text": [
        "\n",
        "Time to execute model 'feasibility': 2.20s"
       ]
      },
      {
       "output_type": "stream",
       "stream": "stdout",
       "text": [
        "\n",
        "Running model 'residential_developer'\n",
        "Number of agents: 352,500"
       ]
      },
      {
       "output_type": "stream",
       "stream": "stdout",
       "text": [
        "\n",
        "Number of agent spaces: 374,133\n",
        "Current vacancy = 0.06\n",
        "Target vacancy = 0.06, target of new units = 867\n",
        "2,262 feasible buildings before running developer\n",
        "Sum of net units that are profitable: 36,499\n",
        "Adding 3 buildings with 1,179 residential_units"
       ]
      },
      {
       "output_type": "stream",
       "stream": "stdout",
       "text": [
        "\n",
        "2,259 feasible buildings after running developer\n",
        "Unplaced households before: 6912"
       ]
      },
      {
       "output_type": "stream",
       "stream": "stdout",
       "text": [
        "\n",
        "Unplaced households after: 6993\n",
        "Unplaced jobs before: 4509\n",
        "Unplaced jobs after: 4545\n",
        "Time to execute model 'residential_developer': 0.38s"
       ]
      },
      {
       "output_type": "stream",
       "stream": "stdout",
       "text": [
        "\n",
        "Running model 'clear_cache'\n",
        "Time to execute model 'clear_cache': 0.00s\n",
        "Running model 'diagnostic_output'\n",
        "Time to execute model 'diagnostic_output': 1.80s"
       ]
      },
      {
       "output_type": "stream",
       "stream": "stdout",
       "text": [
        "\n",
        "Total time to execute year 2010: 10.90s\n",
        "Running year 2011\n",
        "Running model 'rsh_simulate'\n",
        "count      140781.000000\n",
        "mean         1181.437732\n",
        "std         42697.035425\n",
        "min             0.002099\n",
        "25%           257.596565\n",
        "50%           386.664558\n",
        "75%           563.548533\n",
        "max      12773750.806035\n",
        "dtype: float64"
       ]
      },
      {
       "output_type": "stream",
       "stream": "stdout",
       "text": [
        "\n",
        "Time to execute model 'rsh_simulate': 0.62s\n",
        "Running model 'nrh_simulate'\n",
        "count    10802.000000\n",
        "mean        20.705356\n",
        "std          6.856067\n",
        "min          5.968096\n",
        "25%         17.373642\n",
        "50%         20.885834\n",
        "75%         24.983641\n",
        "max         47.091100\n",
        "dtype: float64"
       ]
      },
      {
       "output_type": "stream",
       "stream": "stdout",
       "text": [
        "\n",
        "Time to execute model 'nrh_simulate': 0.45s\n",
        "Running model 'households_relocation'\n",
        "Total agents: 352500\n",
        "Total currently unplaced: 6993"
       ]
      },
      {
       "output_type": "stream",
       "stream": "stdout",
       "text": [
        "\n",
        "Assinging for relocation...\n",
        "Total currently unplaced: 24280"
       ]
      },
      {
       "output_type": "stream",
       "stream": "stdout",
       "text": [
        "\n",
        "Time to execute model 'households_relocation': 0.20s\n",
        "Running model 'hlcm_simulate'\n",
        "There are 375225 total available units"
       ]
      },
      {
       "output_type": "stream",
       "stream": "stdout",
       "text": [
        "\n",
        "    and 352500 total choosers\n",
        "    but there are 39166 overfull buildings\n",
        "    for a total of 104007 temporarily empty units"
       ]
      },
      {
       "output_type": "stream",
       "stream": "stdout",
       "text": [
        "\n",
        "    in 51160 buildings total in the region\n",
        "Assigned 24280 choosers to new units"
       ]
      },
      {
       "output_type": "stream",
       "stream": "stdout",
       "text": [
        "\n",
        "Total currently unplaced: 0"
       ]
      },
      {
       "output_type": "stream",
       "stream": "stdout",
       "text": [
        "\n",
        "    and there are now 22725 empty units"
       ]
      },
      {
       "output_type": "stream",
       "stream": "stdout",
       "text": [
        "\n",
        "    and 39166 overfull buildings\n",
        "Time to execute model 'hlcm_simulate': 2.30s\n",
        "Running model 'households_transition'\n",
        "352500 agents before transition\n",
        "359550 agents after transition"
       ]
      },
      {
       "output_type": "stream",
       "stream": "stdout",
       "text": [
        "\n",
        "Time to execute model 'households_transition': 0.19s\n",
        "Running model 'jobs_relocation'\n",
        "Total agents: 229948\n",
        "Total currently unplaced: 4545\n",
        "Assinging for relocation...\n",
        "Total currently unplaced: 15799"
       ]
      },
      {
       "output_type": "stream",
       "stream": "stdout",
       "text": [
        "\n",
        "Time to execute model 'jobs_relocation': 0.08s\n",
        "Running model 'elcm_simulate'\n",
        "There are 641724 total available units"
       ]
      },
      {
       "output_type": "stream",
       "stream": "stdout",
       "text": [
        "\n",
        "    and 229948 total choosers\n",
        "    but there are 14247 overfull buildings\n",
        "    for a total of 536452 temporarily empty units"
       ]
      },
      {
       "output_type": "stream",
       "stream": "stdout",
       "text": [
        "\n",
        "    in 8584 buildings total in the region\n",
        "Assigned 15799 choosers to new units"
       ]
      },
      {
       "output_type": "stream",
       "stream": "stdout",
       "text": [
        "\n",
        "Total currently unplaced: 0"
       ]
      },
      {
       "output_type": "stream",
       "stream": "stdout",
       "text": [
        "\n",
        "    and there are now 411864 empty units"
       ]
      },
      {
       "output_type": "stream",
       "stream": "stdout",
       "text": [
        "\n",
        "    and 14247 overfull buildings\n",
        "Time to execute model 'elcm_simulate': 2.29s\n",
        "Running model 'jobs_transition'\n",
        "229948 agents before transition\n",
        "234547 agents after transition"
       ]
      },
      {
       "output_type": "stream",
       "stream": "stdout",
       "text": [
        "\n",
        "Time to execute model 'jobs_transition': 0.16s\n",
        "Running model 'feasibility'\n",
        "Describe of the yearly rent by use"
       ]
      },
      {
       "output_type": "stream",
       "stream": "stdout",
       "text": [
        "\n",
        "             retail    industrial        office   residential\n",
        "count  47964.000000  24275.000000  47585.000000  48217.000000\n",
        "mean      25.930670      9.089320     22.679541     30.785370\n",
        "std        3.999206      1.673697      3.288636      9.511554\n",
        "min       18.948125      6.641341     16.440257     12.500000\n",
        "25%       21.991457      7.546650     19.388858     25.798699\n",
        "50%       26.083754      8.937800     23.287385     27.561389\n",
        "75%       29.165143     10.193271     25.748233     34.792897\n",
        "max       35.773809     14.937684     31.355936     60.000000\n",
        "Computing feasibility for form mixedoffice\n",
        "Computing feasibility for form industrial"
       ]
      },
      {
       "output_type": "stream",
       "stream": "stdout",
       "text": [
        "\n",
        "Computing feasibility for form office"
       ]
      },
      {
       "output_type": "stream",
       "stream": "stdout",
       "text": [
        "\n",
        "Computing feasibility for form residential"
       ]
      },
      {
       "output_type": "stream",
       "stream": "stdout",
       "text": [
        "\n",
        "Computing feasibility for form mixedresidential"
       ]
      },
      {
       "output_type": "stream",
       "stream": "stdout",
       "text": [
        "\n",
        "Computing feasibility for form retail"
       ]
      },
      {
       "output_type": "stream",
       "stream": "stdout",
       "text": [
        "\n",
        "Time to execute model 'feasibility': 1.90s"
       ]
      },
      {
       "output_type": "stream",
       "stream": "stdout",
       "text": [
        "\n",
        "Running model 'residential_developer'\n",
        "Number of agents: 359,550"
       ]
      },
      {
       "output_type": "stream",
       "stream": "stdout",
       "text": [
        "\n",
        "Number of agent spaces: 375,225\n",
        "Current vacancy = 0.04\n",
        "Target vacancy = 0.06, target of new units = 7,275\n",
        "2,283 feasible buildings before running developer\n",
        "Sum of net units that are profitable: 35,470\n",
        "Adding 63 buildings with 8,249 residential_units\n",
        "2,220 feasible buildings after running developer\n",
        "Unplaced households before: 7050"
       ]
      },
      {
       "output_type": "stream",
       "stream": "stdout",
       "text": [
        "\n",
        "Unplaced households after: 7588\n",
        "Unplaced jobs before: 4599\n",
        "Unplaced jobs after: 5511\n",
        "Time to execute model 'residential_developer': 0.34s"
       ]
      },
      {
       "output_type": "stream",
       "stream": "stdout",
       "text": [
        "\n",
        "Running model 'clear_cache'\n",
        "Time to execute model 'clear_cache': 0.00s\n",
        "Running model 'diagnostic_output'\n",
        "Time to execute model 'diagnostic_output': 1.78s"
       ]
      },
      {
       "output_type": "stream",
       "stream": "stdout",
       "text": [
        "\n",
        "Total time to execute year 2011: 10.31s\n",
        "Running year 2012\n",
        "Running model 'rsh_simulate'\n",
        "count      140824.000000\n",
        "mean         1201.191324\n",
        "std         44012.848862\n",
        "min             0.002153\n",
        "25%           263.654536\n",
        "50%           395.323730\n",
        "75%           575.464477\n",
        "max      13253374.276354\n",
        "dtype: float64"
       ]
      },
      {
       "output_type": "stream",
       "stream": "stdout",
       "text": [
        "\n",
        "Time to execute model 'rsh_simulate': 0.61s\n",
        "Running model 'nrh_simulate'\n",
        "count    10757.000000\n",
        "mean        20.688803\n",
        "std          6.846152\n",
        "min          5.863492\n",
        "25%         17.425837\n",
        "50%         20.865854\n",
        "75%         24.940739\n",
        "max         46.997256\n",
        "dtype: float64"
       ]
      },
      {
       "output_type": "stream",
       "stream": "stdout",
       "text": [
        "\n",
        "Time to execute model 'nrh_simulate': 0.44s\n",
        "Running model 'households_relocation'\n",
        "Total agents: 359550\n",
        "Total currently unplaced: 7588"
       ]
      },
      {
       "output_type": "stream",
       "stream": "stdout",
       "text": [
        "\n",
        "Assinging for relocation...\n",
        "Total currently unplaced: 25191"
       ]
      },
      {
       "output_type": "stream",
       "stream": "stdout",
       "text": [
        "\n",
        "Time to execute model 'households_relocation': 0.19s\n",
        "Running model 'hlcm_simulate'\n",
        "There are 382572 total available units"
       ]
      },
      {
       "output_type": "stream",
       "stream": "stdout",
       "text": [
        "\n",
        "    and 359550 total choosers\n",
        "    but there are 35868 overfull buildings\n",
        "    for a total of 99576 temporarily empty units"
       ]
      },
      {
       "output_type": "stream",
       "stream": "stdout",
       "text": [
        "\n",
        "    in 48557 buildings total in the region\n",
        "Assigned 25191 choosers to new units"
       ]
      },
      {
       "output_type": "stream",
       "stream": "stdout",
       "text": [
        "\n",
        "Total currently unplaced: 0"
       ]
      },
      {
       "output_type": "stream",
       "stream": "stdout",
       "text": [
        "\n",
        "    and there are now 23022 empty units"
       ]
      },
      {
       "output_type": "stream",
       "stream": "stdout",
       "text": [
        "\n",
        "    and 35868 overfull buildings\n",
        "Time to execute model 'hlcm_simulate': 2.25s\n",
        "Running model 'households_transition'\n",
        "359550 agents before transition\n",
        "366741 agents after transition"
       ]
      },
      {
       "output_type": "stream",
       "stream": "stdout",
       "text": [
        "\n",
        "Time to execute model 'households_transition': 0.18s\n",
        "Running model 'jobs_relocation'\n",
        "Total agents: 234547\n",
        "Total currently unplaced: 5511\n",
        "Assinging for relocation...\n",
        "Total currently unplaced: 16991"
       ]
      },
      {
       "output_type": "stream",
       "stream": "stdout",
       "text": [
        "\n",
        "Time to execute model 'jobs_relocation': 0.08s\n",
        "Running model 'elcm_simulate'\n",
        "There are 638203 total available units"
       ]
      },
      {
       "output_type": "stream",
       "stream": "stdout",
       "text": [
        "\n",
        "    and 234547 total choosers\n",
        "    but there are 13857 overfull buildings\n",
        "    for a total of 522702 temporarily empty units"
       ]
      },
      {
       "output_type": "stream",
       "stream": "stdout",
       "text": [
        "\n",
        "    in 8614 buildings total in the region\n",
        "Assigned 16991 choosers to new units"
       ]
      },
      {
       "output_type": "stream",
       "stream": "stdout",
       "text": [
        "\n",
        "Total currently unplaced: 0"
       ]
      },
      {
       "output_type": "stream",
       "stream": "stdout",
       "text": [
        "\n",
        "    and there are now 403738 empty units"
       ]
      },
      {
       "output_type": "stream",
       "stream": "stdout",
       "text": [
        "\n",
        "    and 13857 overfull buildings\n",
        "Time to execute model 'elcm_simulate': 2.30s\n",
        "Running model 'jobs_transition'\n",
        "234547 agents before transition\n",
        "239238 agents after transition"
       ]
      },
      {
       "output_type": "stream",
       "stream": "stdout",
       "text": [
        "\n",
        "Time to execute model 'jobs_transition': 0.15s\n",
        "Running model 'feasibility'\n",
        "Describe of the yearly rent by use"
       ]
      },
      {
       "output_type": "stream",
       "stream": "stdout",
       "text": [
        "\n",
        "             retail    industrial        office   residential\n",
        "count  47901.000000  24212.000000  47522.000000  48154.000000\n",
        "mean      25.936406      9.037722     22.696450     31.357003\n",
        "std        4.010437      1.667105      3.294232      9.427736\n",
        "min       18.898362      6.591333     16.433910     12.500000\n",
        "25%       21.964900      7.502675     19.427486     26.126414\n",
        "50%       26.028185      8.829656     23.335041     27.974125\n",
        "75%       29.193511     10.145131     25.781365     35.574148\n",
        "max       35.807333     15.002261     31.192293     60.000000"
       ]
      },
      {
       "output_type": "stream",
       "stream": "stdout",
       "text": [
        "\n",
        "Computing feasibility for form mixedoffice\n",
        "Computing feasibility for form industrial"
       ]
      },
      {
       "output_type": "stream",
       "stream": "stdout",
       "text": [
        "\n",
        "Computing feasibility for form office"
       ]
      },
      {
       "output_type": "stream",
       "stream": "stdout",
       "text": [
        "\n",
        "Computing feasibility for form residential"
       ]
      },
      {
       "output_type": "stream",
       "stream": "stdout",
       "text": [
        "\n",
        "Computing feasibility for form mixedresidential"
       ]
      },
      {
       "output_type": "stream",
       "stream": "stdout",
       "text": [
        "\n",
        "Computing feasibility for form retail"
       ]
      },
      {
       "output_type": "stream",
       "stream": "stdout",
       "text": [
        "\n",
        "Time to execute model 'feasibility': 3.22s"
       ]
      },
      {
       "output_type": "stream",
       "stream": "stdout",
       "text": [
        "\n",
        "Running model 'residential_developer'\n",
        "Number of agents: 366,741"
       ]
      },
      {
       "output_type": "stream",
       "stream": "stdout",
       "text": [
        "\n",
        "Number of agent spaces: 382,572\n",
        "Current vacancy = 0.04\n",
        "Target vacancy = 0.06, target of new units = 7,578\n",
        "2,260 feasible buildings before running developer\n",
        "Sum of net units that are profitable: 28,408\n",
        "Adding 90 buildings with 8,838 residential_units\n",
        "2,170 feasible buildings after running developer\n",
        "Unplaced households before: 7191"
       ]
      },
      {
       "output_type": "stream",
       "stream": "stdout",
       "text": [
        "\n",
        "Unplaced households after: 8042\n",
        "Unplaced jobs before: 4691\n",
        "Unplaced jobs after: 5989\n",
        "Time to execute model 'residential_developer': 0.34s"
       ]
      },
      {
       "output_type": "stream",
       "stream": "stdout",
       "text": [
        "\n",
        "Running model 'clear_cache'\n",
        "Time to execute model 'clear_cache': 0.00s\n",
        "Running model 'diagnostic_output'\n",
        "Time to execute model 'diagnostic_output': 3.19s"
       ]
      },
      {
       "output_type": "stream",
       "stream": "stdout",
       "text": [
        "\n",
        "Total time to execute year 2012: 12.96s\n"
       ]
      }
     ],
     "prompt_number": 2
    },
    {
     "cell_type": "code",
     "collapsed": false,
     "input": [],
     "language": "python",
     "metadata": {},
     "outputs": [],
     "prompt_number": 2
    }
   ],
   "metadata": {}
  }
 ]
}