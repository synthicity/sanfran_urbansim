{
 "metadata": {
  "name": "",
  "signature": "sha256:d6badf6b89ebdd6961419be24dfc0fe09c98ae752666e78b0149a6f8d399b245"
 },
 "nbformat": 3,
 "nbformat_minor": 0,
 "worksheets": [
  {
   "cells": [
    {
     "cell_type": "code",
     "collapsed": true,
     "input": [
      "# %load_ext autoreload\n",
      "# %autoreload 2\n",
      "import models, utils\n",
      "import urbansim.sim.simulation as sim"
     ],
     "language": "python",
     "metadata": {},
     "outputs": [],
     "prompt_number": 1
    },
    {
     "cell_type": "code",
     "collapsed": true,
     "input": [
      "in_year, out_year = 2010, 2013\n",
      "\n",
      "# one time for base year indicators\n",
      "sim.run([\n",
      "    \"diagnostic_output\"\n",
      "], years=[in_year-1])\n",
      "\n",
      "sim.run([\n",
      "    \"rsh_simulate\",              # residential sales hedonic\n",
      "    \"nrh_simulate\",              # non-residential rent hedonic\n",
      "\n",
      "    \"households_relocation\",     # households relocation model\n",
      "    \"hlcm_simulate\",            # households location choice\n",
      "    \"households_transition\",     # households transition\n",
      "\n",
      "    \"jobs_relocation\",           # jobs relocation model\n",
      "    \"elcm_simulate\",             # employment location choice\n",
      "    \"jobs_transition\",           # jobs transition\n",
      "\n",
      "    \"feasibility\",               # compute development feasibility\n",
      "    \"residential_developer\",     # build residential buildings\n",
      "    #\"non_residential_developer\", # build non-residential buildings\n",
      "    \"clear_cache\",               # clear the cache each year\n",
      "    \"diagnostic_output\",\n",
      "    \"pusher\"\n",
      "], years=range(in_year, out_year))"
     ],
     "language": "python",
     "metadata": {},
     "outputs": [
      {
       "output_type": "stream",
       "stream": "stdout",
       "text": [
        "Running year 2009\n",
        "Running model 'diagnostic_output'\n",
        "Filling column non_residential_rent with value 0 (142400 values)"
       ]
      },
      {
       "output_type": "stream",
       "stream": "stdout",
       "text": [
        "\n",
        "Filling column residential_units with value 0 (0 values)\n",
        "Filling column year_built with value 1927.0 (3116 values)\n",
        "Filling column residential_sales_price with value 0 (14196 values)\n",
        "Filling column non_residential_sqft with value 0 (1341 values)\n",
        "Filling column building_type_id with value 2.0 (0 values)"
       ]
      },
      {
       "output_type": "stream",
       "stream": "stdout",
       "text": [
        "\n",
        "Filling column job_category with value service (331 values)"
       ]
      },
      {
       "output_type": "stream",
       "stream": "stdout",
       "text": [
        "\n",
        "Time to execute model 'diagnostic_output': 2.06s"
       ]
      },
      {
       "output_type": "stream",
       "stream": "stdout",
       "text": [
        "\n",
        "Total time to execute year 2009: 2.06s\n",
        "Running year 2010\n",
        "Running model 'rsh_simulate'\n",
        "count      140780.000000\n",
        "mean         1156.971200\n",
        "std         41503.246343\n",
        "min             0.002067\n",
        "25%           252.727481\n",
        "50%           379.993499\n",
        "75%           554.244653\n",
        "max      12507033.315516\n",
        "dtype: float64"
       ]
      },
      {
       "output_type": "stream",
       "stream": "stdout",
       "text": [
        "\n",
        "Time to execute model 'rsh_simulate': 0.64s\n",
        "Running model 'nrh_simulate'\n",
        "count    10803.000000\n",
        "mean        20.729909\n",
        "std          6.833292\n",
        "min          6.258496\n",
        "25%         17.431477\n",
        "50%         20.908725\n",
        "75%         25.077906\n",
        "max         47.266957\n",
        "dtype: float64"
       ]
      },
      {
       "output_type": "stream",
       "stream": "stdout",
       "text": [
        "\n",
        "Time to execute model 'nrh_simulate': 0.42s\n",
        "Running model 'households_relocation'\n",
        "Total agents: 345588\n",
        "Total currently unplaced: 0"
       ]
      },
      {
       "output_type": "stream",
       "stream": "stdout",
       "text": [
        "\n",
        "Assinging for relocation...\n",
        "Total currently unplaced: 17279"
       ]
      },
      {
       "output_type": "stream",
       "stream": "stdout",
       "text": [
        "\n",
        "Time to execute model 'households_relocation': 0.22s\n",
        "Running model 'hlcm_simulate'\n",
        "There are 374133 total available units"
       ]
      },
      {
       "output_type": "stream",
       "stream": "stdout",
       "text": [
        "\n",
        "    and 345588 total choosers\n",
        "    but there are 43027 overfull buildings\n",
        "    for a total of 109309 temporarily empty units"
       ]
      },
      {
       "output_type": "stream",
       "stream": "stdout",
       "text": [
        "\n",
        "    in 50771 buildings total in the region\n",
        "Assigned 17279 choosers to new units"
       ]
      },
      {
       "output_type": "stream",
       "stream": "stdout",
       "text": [
        "\n",
        "Total currently unplaced: 0"
       ]
      },
      {
       "output_type": "stream",
       "stream": "stdout",
       "text": [
        "\n",
        "    and there are now 28545 empty units"
       ]
      },
      {
       "output_type": "stream",
       "stream": "stdout",
       "text": [
        "\n",
        "    and 43027 overfull buildings\n",
        "Time to execute model 'hlcm_simulate': 2.05s\n",
        "Running model 'households_transition'\n",
        "345588 agents before transition\n",
        "352500 agents after transition"
       ]
      },
      {
       "output_type": "stream",
       "stream": "stdout",
       "text": [
        "\n",
        "Time to execute model 'households_transition': 0.10s\n",
        "Running model 'jobs_relocation'\n",
        "Total agents: 225439\n",
        "Total currently unplaced: 0\n",
        "Assinging for relocation...\n",
        "Total currently unplaced: 11271"
       ]
      },
      {
       "output_type": "stream",
       "stream": "stdout",
       "text": [
        "\n",
        "Time to execute model 'jobs_relocation': 0.10s\n",
        "Running model 'elcm_simulate'\n",
        "There are 642004 total available units"
       ]
      },
      {
       "output_type": "stream",
       "stream": "stdout",
       "text": [
        "\n",
        "    and 225439 total choosers\n",
        "    but there are 14708 overfull buildings\n",
        "    for a total of 543924 temporarily empty units"
       ]
      },
      {
       "output_type": "stream",
       "stream": "stdout",
       "text": [
        "\n",
        "    in 8508 buildings total in the region\n",
        "Assigned 11271 choosers to new units"
       ]
      },
      {
       "output_type": "stream",
       "stream": "stdout",
       "text": [
        "\n",
        "Total currently unplaced: 0\n",
        "    and there are now 416653 empty units"
       ]
      },
      {
       "output_type": "stream",
       "stream": "stdout",
       "text": [
        "\n",
        "    and 14708 overfull buildings\n",
        "Time to execute model 'elcm_simulate': 2.17s\n",
        "Running model 'jobs_transition'\n",
        "225439 agents before transition\n",
        "229948 agents after transition"
       ]
      },
      {
       "output_type": "stream",
       "stream": "stdout",
       "text": [
        "\n",
        "Time to execute model 'jobs_transition': 0.08s\n",
        "Running model 'feasibility'\n",
        "Describe of the yearly rent by use"
       ]
      },
      {
       "output_type": "stream",
       "stream": "stdout",
       "text": [
        "\n",
        "             retail    industrial        office   residential\n",
        "count  47967.000000  24278.000000  47588.000000  48220.000000\n",
        "mean      25.906138      9.139716     22.657248     30.295256\n",
        "std        3.990524      1.681738      3.280794      9.518450\n",
        "min       18.959521      6.761234     16.531243     12.500000\n",
        "25%       21.967369      7.598586     19.377062     24.994565\n",
        "50%       26.090178      8.974031     23.245412     27.089827\n",
        "75%       29.119849     10.239850     25.703121     33.737613\n",
        "max       35.701767     14.925111     31.440265     60.000000\n",
        "\n",
        "[8 rows x 4 columns]\n",
        "Computing feasibility for form mixedoffice\n",
        "Computing feasibility for form industrial"
       ]
      },
      {
       "output_type": "stream",
       "stream": "stdout",
       "text": [
        "\n",
        "Computing feasibility for form office"
       ]
      },
      {
       "output_type": "stream",
       "stream": "stdout",
       "text": [
        "\n",
        "Computing feasibility for form residential"
       ]
      },
      {
       "output_type": "stream",
       "stream": "stdout",
       "text": [
        "\n",
        "Computing feasibility for form mixedresidential"
       ]
      },
      {
       "output_type": "stream",
       "stream": "stdout",
       "text": [
        "\n",
        "Computing feasibility for form retail"
       ]
      },
      {
       "output_type": "stream",
       "stream": "stdout",
       "text": [
        "\n",
        "Time to execute model 'feasibility': 2.49s"
       ]
      },
      {
       "output_type": "stream",
       "stream": "stdout",
       "text": [
        "\n",
        "Running model 'residential_developer'\n",
        "Number of agents: 352,500"
       ]
      },
      {
       "output_type": "stream",
       "stream": "stdout",
       "text": [
        "\n",
        "Number of agent spaces: 374,133\n",
        "Current vacancy = 0.06\n",
        "Target vacancy = 0.06, target of new units = 867\n",
        "2,811 feasible buildings before running developer\n",
        "Sum of net units that are profitable: 40,200\n",
        "Adding 7 buildings with 1,696 residential_units\n",
        "2,804 feasible buildings after running developer\n",
        "Unplaced households before: 6912"
       ]
      },
      {
       "output_type": "stream",
       "stream": "stdout",
       "text": [
        "\n",
        "Unplaced households after: 7013\n",
        "Unplaced jobs before: 4509\n",
        "Unplaced jobs after: 4977"
       ]
      },
      {
       "output_type": "stream",
       "stream": "stdout",
       "text": [
        "\n",
        "Time to execute model 'residential_developer': 0.38s\n",
        "Running model 'clear_cache'\n",
        "Time to execute model 'clear_cache': 0.00s\n",
        "Running model 'diagnostic_output'\n",
        "Time to execute model 'diagnostic_output': 1.46s"
       ]
      },
      {
       "output_type": "stream",
       "stream": "stdout",
       "text": [
        "\n",
        "Running model 'pusher'\n",
        "Time to execute model 'pusher': 0.21s"
       ]
      },
      {
       "output_type": "stream",
       "stream": "stdout",
       "text": [
        "\n",
        "Total time to execute year 2010: 10.34s\n",
        "Running year 2011\n",
        "Running model 'rsh_simulate'\n",
        "count      140786.000000\n",
        "mean         1179.851980\n",
        "std         43097.103005\n",
        "min             0.002137\n",
        "25%           257.282697\n",
        "50%           386.511965\n",
        "75%           563.088784\n",
        "max      13012149.381063\n",
        "dtype: float64"
       ]
      },
      {
       "output_type": "stream",
       "stream": "stdout",
       "text": [
        "\n",
        "Time to execute model 'rsh_simulate': 1.12s\n",
        "Running model 'nrh_simulate'\n",
        "count    10798.000000\n",
        "mean        20.718443\n",
        "std          6.842927\n",
        "min          6.047251\n",
        "25%         17.427589\n",
        "50%         20.897746\n",
        "75%         25.013550\n",
        "max         47.146608\n",
        "dtype: float64"
       ]
      },
      {
       "output_type": "stream",
       "stream": "stdout",
       "text": [
        "\n",
        "Time to execute model 'nrh_simulate': 0.42s\n",
        "Running model 'households_relocation'\n",
        "Total agents: 352500\n",
        "Total currently unplaced: 7013"
       ]
      },
      {
       "output_type": "stream",
       "stream": "stdout",
       "text": [
        "\n",
        "Assinging for relocation...\n",
        "Total currently unplaced: 24296"
       ]
      },
      {
       "output_type": "stream",
       "stream": "stdout",
       "text": [
        "\n",
        "Time to execute model 'households_relocation': 0.25s\n",
        "Running model 'hlcm_simulate'\n",
        "There are 375713 total available units"
       ]
      },
      {
       "output_type": "stream",
       "stream": "stdout",
       "text": [
        "\n",
        "    and 352500 total choosers\n",
        "    but there are 39187 overfull buildings\n",
        "    for a total of 104533 temporarily empty units"
       ]
      },
      {
       "output_type": "stream",
       "stream": "stdout",
       "text": [
        "\n",
        "    in 51233 buildings total in the region\n",
        "Assigned 24296 choosers to new units"
       ]
      },
      {
       "output_type": "stream",
       "stream": "stdout",
       "text": [
        "\n",
        "Total currently unplaced: 0"
       ]
      },
      {
       "output_type": "stream",
       "stream": "stdout",
       "text": [
        "\n",
        "    and there are now 23213 empty units"
       ]
      },
      {
       "output_type": "stream",
       "stream": "stdout",
       "text": [
        "\n",
        "    and 39187 overfull buildings\n",
        "Time to execute model 'hlcm_simulate': 2.80s\n",
        "Running model 'households_transition'\n",
        "352500 agents before transition\n",
        "359550 agents after transition"
       ]
      },
      {
       "output_type": "stream",
       "stream": "stdout",
       "text": [
        "\n",
        "Time to execute model 'households_transition': 0.10s\n",
        "Running model 'jobs_relocation'\n",
        "Total agents: 229948\n",
        "Total currently unplaced: 4977\n",
        "Assinging for relocation...\n",
        "Total currently unplaced: 16214"
       ]
      },
      {
       "output_type": "stream",
       "stream": "stdout",
       "text": [
        "\n",
        "Time to execute model 'jobs_relocation': 0.13s\n",
        "Running model 'elcm_simulate'\n",
        "There are 641229 total available units"
       ]
      },
      {
       "output_type": "stream",
       "stream": "stdout",
       "text": [
        "\n",
        "    and 229948 total choosers\n",
        "    but there are 14288 overfull buildings\n",
        "    for a total of 536212 temporarily empty units"
       ]
      },
      {
       "output_type": "stream",
       "stream": "stdout",
       "text": [
        "\n",
        "    in 8581 buildings total in the region\n",
        "Assigned 16214 choosers to new units"
       ]
      },
      {
       "output_type": "stream",
       "stream": "stdout",
       "text": [
        "\n",
        "Total currently unplaced: 0\n",
        "    and there are now 411366 empty units"
       ]
      },
      {
       "output_type": "stream",
       "stream": "stdout",
       "text": [
        "\n",
        "    and 14288 overfull buildings\n",
        "Time to execute model 'elcm_simulate': 3.11s\n",
        "Running model 'jobs_transition'\n",
        "229948 agents before transition\n",
        "234547 agents after transition"
       ]
      },
      {
       "output_type": "stream",
       "stream": "stdout",
       "text": [
        "\n",
        "Time to execute model 'jobs_transition': 0.28s\n",
        "Running model 'feasibility'\n",
        "Describe of the yearly rent by use"
       ]
      },
      {
       "output_type": "stream",
       "stream": "stdout",
       "text": [
        "\n",
        "             retail    industrial        office   residential\n",
        "count  47960.000000  24271.000000  47581.000000  48213.000000\n",
        "mean      25.932275      9.094728     22.681653     30.775841\n",
        "std        3.996637      1.674478      3.291707      9.498662\n",
        "min       18.931943      6.685951     16.584550     12.500000\n",
        "25%       21.986426      7.545225     19.377549     25.910018\n",
        "50%       26.040793      8.958962     23.275363     27.358963\n",
        "75%       29.151312     10.173868     25.746656     34.454399\n",
        "max       35.721010     14.941685     31.300796     60.000000\n",
        "\n",
        "[8 rows x 4 columns]\n",
        "Computing feasibility for form mixedoffice\n",
        "Computing feasibility for form industrial"
       ]
      },
      {
       "output_type": "stream",
       "stream": "stdout",
       "text": [
        "\n",
        "Computing feasibility for form office"
       ]
      },
      {
       "output_type": "stream",
       "stream": "stdout",
       "text": [
        "\n",
        "Computing feasibility for form residential"
       ]
      },
      {
       "output_type": "stream",
       "stream": "stdout",
       "text": [
        "\n",
        "Computing feasibility for form mixedresidential"
       ]
      },
      {
       "output_type": "stream",
       "stream": "stdout",
       "text": [
        "\n",
        "Computing feasibility for form retail"
       ]
      },
      {
       "output_type": "stream",
       "stream": "stdout",
       "text": [
        "\n",
        "Time to execute model 'feasibility': 3.81s"
       ]
      },
      {
       "output_type": "stream",
       "stream": "stdout",
       "text": [
        "\n",
        "Running model 'residential_developer'\n",
        "Number of agents: 359,550"
       ]
      },
      {
       "output_type": "stream",
       "stream": "stdout",
       "text": [
        "\n",
        "Number of agent spaces: 375,713\n",
        "Current vacancy = 0.04\n",
        "Target vacancy = 0.06, target of new units = 6,787\n",
        "2,840 feasible buildings before running developer\n",
        "Sum of net units that are profitable: 38,717\n",
        "Adding 46 buildings with 7,697 residential_units\n",
        "2,794 feasible buildings after running developer\n",
        "Unplaced households before: 7050"
       ]
      },
      {
       "output_type": "stream",
       "stream": "stdout",
       "text": [
        "\n",
        "Unplaced households after: 7494\n",
        "Unplaced jobs before: 4599"
       ]
      },
      {
       "output_type": "stream",
       "stream": "stdout",
       "text": [
        "\n",
        "Unplaced jobs after: 5543\n",
        "Time to execute model 'residential_developer': 0.65s"
       ]
      },
      {
       "output_type": "stream",
       "stream": "stdout",
       "text": [
        "\n",
        "Running model 'clear_cache'\n",
        "Time to execute model 'clear_cache': 0.00s\n",
        "Running model 'diagnostic_output'\n",
        "Time to execute model 'diagnostic_output': 2.40s"
       ]
      },
      {
       "output_type": "stream",
       "stream": "stdout",
       "text": [
        "\n",
        "Running model 'pusher'\n",
        "Time to execute model 'pusher': 0.78s"
       ]
      },
      {
       "output_type": "stream",
       "stream": "stdout",
       "text": [
        "\n",
        "Total time to execute year 2011: 15.86s\n",
        "Running year 2012\n",
        "Running model 'rsh_simulate'\n",
        "count      140818.000000\n",
        "mean         1201.593881\n",
        "std         43949.358121\n",
        "min             0.002216\n",
        "25%           262.865452\n",
        "50%           394.587656\n",
        "75%           574.524675\n",
        "max      13153602.527610\n",
        "dtype: float64"
       ]
      },
      {
       "output_type": "stream",
       "stream": "stdout",
       "text": [
        "\n",
        "Time to execute model 'rsh_simulate': 1.09s\n",
        "Running model 'nrh_simulate'\n",
        "count    10765.000000\n",
        "mean        20.703009\n",
        "std          6.842351\n",
        "min          6.444464\n",
        "25%         17.425876\n",
        "50%         20.860464\n",
        "75%         24.958436\n",
        "max         47.040981\n",
        "dtype: float64"
       ]
      },
      {
       "output_type": "stream",
       "stream": "stdout",
       "text": [
        "\n",
        "Time to execute model 'nrh_simulate': 0.42s\n",
        "Running model 'households_relocation'\n",
        "Total agents: 359550\n",
        "Total currently unplaced: 7494"
       ]
      },
      {
       "output_type": "stream",
       "stream": "stdout",
       "text": [
        "\n",
        "Assinging for relocation...\n",
        "Total currently unplaced: 25116"
       ]
      },
      {
       "output_type": "stream",
       "stream": "stdout",
       "text": [
        "\n",
        "Time to execute model 'households_relocation': 0.71s\n",
        "Running model 'hlcm_simulate'\n",
        "There are 382626 total available units"
       ]
      },
      {
       "output_type": "stream",
       "stream": "stdout",
       "text": [
        "\n",
        "    and 359550 total choosers\n",
        "    but there are 35804 overfull buildings\n",
        "    for a total of 99513 temporarily empty units"
       ]
      },
      {
       "output_type": "stream",
       "stream": "stdout",
       "text": [
        "\n",
        "    in 48994 buildings total in the region\n",
        "Assigned 25116 choosers to new units"
       ]
      },
      {
       "output_type": "stream",
       "stream": "stdout",
       "text": [
        "\n",
        "Total currently unplaced: 0"
       ]
      },
      {
       "output_type": "stream",
       "stream": "stdout",
       "text": [
        "\n",
        "    and there are now 23076 empty units"
       ]
      },
      {
       "output_type": "stream",
       "stream": "stdout",
       "text": [
        "\n",
        "    and 35804 overfull buildings\n",
        "Time to execute model 'hlcm_simulate': 2.13s\n",
        "Running model 'households_transition'\n",
        "359550 agents before transition\n",
        "366741 agents after transition"
       ]
      },
      {
       "output_type": "stream",
       "stream": "stdout",
       "text": [
        "\n",
        "Time to execute model 'households_transition': 0.11s\n",
        "Running model 'jobs_relocation'\n",
        "Total agents: 234547\n",
        "Total currently unplaced: 5543\n",
        "Assinging for relocation...\n",
        "Total currently unplaced: 16998"
       ]
      },
      {
       "output_type": "stream",
       "stream": "stdout",
       "text": [
        "\n",
        "Time to execute model 'jobs_relocation': 0.12s\n",
        "Running model 'elcm_simulate'\n",
        "There are 636136 total available units"
       ]
      },
      {
       "output_type": "stream",
       "stream": "stdout",
       "text": [
        "\n",
        "    and 234547 total choosers\n",
        "    but there are 13838 overfull buildings\n",
        "    for a total of 520380 temporarily empty units"
       ]
      },
      {
       "output_type": "stream",
       "stream": "stdout",
       "text": [
        "\n",
        "    in 8630 buildings total in the region\n",
        "Assigned 16998 choosers to new units"
       ]
      },
      {
       "output_type": "stream",
       "stream": "stdout",
       "text": [
        "\n",
        "Total currently unplaced: 0\n",
        "    and there are now 401670 empty units"
       ]
      },
      {
       "output_type": "stream",
       "stream": "stdout",
       "text": [
        "\n",
        "    and 13838 overfull buildings\n",
        "Time to execute model 'elcm_simulate': 2.11s\n",
        "Running model 'jobs_transition'\n",
        "234547 agents before transition\n",
        "239238 agents after transition"
       ]
      },
      {
       "output_type": "stream",
       "stream": "stdout",
       "text": [
        "\n",
        "Time to execute model 'jobs_transition': 0.08s\n",
        "Running model 'feasibility'\n",
        "Describe of the yearly rent by use"
       ]
      },
      {
       "output_type": "stream",
       "stream": "stdout",
       "text": [
        "\n",
        "             retail    industrial        office   residential\n",
        "count  47914.000000  24225.000000  47535.000000  48167.000000\n",
        "mean      25.945746      9.046243     22.696288     31.358670\n",
        "std        3.998632      1.673542      3.300286      9.430165\n",
        "min       18.898917      6.627936     16.591990     12.500000\n",
        "25%       21.982616      7.486020     19.415467     26.303916\n",
        "50%       26.015713      8.916445     23.293185     28.107635\n",
        "75%       29.203899     10.137670     25.784841     35.292661\n",
        "max       35.695191     15.021758     31.292901     60.000000\n",
        "\n",
        "[8 rows x 4 columns]\n",
        "Computing feasibility for form mixedoffice\n",
        "Computing feasibility for form industrial"
       ]
      },
      {
       "output_type": "stream",
       "stream": "stdout",
       "text": [
        "\n",
        "Computing feasibility for form office"
       ]
      },
      {
       "output_type": "stream",
       "stream": "stdout",
       "text": [
        "\n",
        "Computing feasibility for form residential"
       ]
      },
      {
       "output_type": "stream",
       "stream": "stdout",
       "text": [
        "\n",
        "Computing feasibility for form mixedresidential"
       ]
      },
      {
       "output_type": "stream",
       "stream": "stdout",
       "text": [
        "\n",
        "Computing feasibility for form retail"
       ]
      },
      {
       "output_type": "stream",
       "stream": "stdout",
       "text": [
        "\n",
        "Time to execute model 'feasibility': 2.07s"
       ]
      },
      {
       "output_type": "stream",
       "stream": "stdout",
       "text": [
        "\n",
        "Running model 'residential_developer'\n",
        "Number of agents: 366,741"
       ]
      },
      {
       "output_type": "stream",
       "stream": "stdout",
       "text": [
        "\n",
        "Number of agent spaces: 382,626\n",
        "Current vacancy = 0.04\n",
        "Target vacancy = 0.06, target of new units = 7,524\n",
        "2,831 feasible buildings before running developer\n",
        "Sum of net units that are profitable: 31,867\n",
        "Adding 89 buildings with 8,383 residential_units\n",
        "2,742 feasible buildings after running developer\n",
        "Unplaced households before: 7191"
       ]
      },
      {
       "output_type": "stream",
       "stream": "stdout",
       "text": [
        "\n",
        "Unplaced households after: 7794\n",
        "Unplaced jobs before: 4691\n",
        "Unplaced jobs after: 5794"
       ]
      },
      {
       "output_type": "stream",
       "stream": "stdout",
       "text": [
        "\n",
        "Time to execute model 'residential_developer': 0.35s\n",
        "Running model 'clear_cache'\n",
        "Time to execute model 'clear_cache': 0.00s\n",
        "Running model 'diagnostic_output'\n",
        "Time to execute model 'diagnostic_output': 1.66s"
       ]
      },
      {
       "output_type": "stream",
       "stream": "stdout",
       "text": [
        "\n",
        "Running model 'pusher'\n",
        "Time to execute model 'pusher': 0.21s"
       ]
      },
      {
       "output_type": "stream",
       "stream": "stdout",
       "text": [
        "\n",
        "Total time to execute year 2012: 11.05s\n"
       ]
      },
      {
       "output_type": "stream",
       "stream": "stderr",
       "text": [
        "/Users/ffoti/anaconda/lib/python2.7/site-packages/pandas/core/frame.py:1686: UserWarning: Boolean Series key will be reindexed to match DataFrame index.\n",
        "  \"DataFrame index.\", UserWarning)\n"
       ]
      }
     ],
     "prompt_number": 2
    },
    {
     "cell_type": "code",
     "collapsed": false,
     "input": [],
     "language": "python",
     "metadata": {},
     "outputs": [],
     "prompt_number": 2
    }
   ],
   "metadata": {}
  }
 ]
}